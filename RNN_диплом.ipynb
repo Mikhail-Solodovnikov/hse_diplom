{
  "nbformat": 4,
  "nbformat_minor": 0,
  "metadata": {
    "colab": {
      "provenance": []
    },
    "kernelspec": {
      "name": "python3",
      "display_name": "Python 3"
    },
    "language_info": {
      "name": "python"
    }
  },
  "cells": [
    {
      "cell_type": "code",
      "execution_count": 2,
      "metadata": {
        "colab": {
          "base_uri": "https://localhost:8080/"
        },
        "id": "2s7W-C8auDMO",
        "outputId": "33ef0087-d483-48f7-9937-9e948f673600"
      },
      "outputs": [
        {
          "output_type": "stream",
          "name": "stdout",
          "text": [
            "Mounted at /content/drive\n"
          ]
        }
      ],
      "source": [
        "from google.colab import drive\n",
        "drive.mount('/content/drive')"
      ]
    },
    {
      "cell_type": "markdown",
      "source": [
        "# RNN"
      ],
      "metadata": {
        "id": "If5CDzEIuGF2"
      }
    },
    {
      "cell_type": "code",
      "source": [
        "import pandas as pd\n",
        "import numpy as np\n",
        "import os\n",
        "import tensorflow as tf\n",
        "from tensorflow.keras.models import Sequential\n",
        "from tensorflow.keras.layers import Dense, Dropout\n",
        "from sklearn.model_selection import train_test_split\n",
        "from sklearn.preprocessing import StandardScaler\n",
        "from sklearn.impute import SimpleImputer\n",
        "from sklearn.metrics import roc_auc_score, classification_report"
      ],
      "metadata": {
        "id": "pB2HK-HkuGOS"
      },
      "execution_count": 1,
      "outputs": []
    },
    {
      "cell_type": "code",
      "source": [
        "# Укажем путь к данным\n",
        "DATA_PATH = r\"/content/drive/MyDrive/home-credit-default-risk\"\n",
        "\n",
        "# Загружаем данные\n",
        "app_train = pd.read_csv(os.path.join(DATA_PATH, \"application_train.csv\"))\n",
        "\n",
        "# Выбираем только числовые признаки\n",
        "num_features = app_train.select_dtypes(include=[np.number]).drop(columns=[\"TARGET\", \"SK_ID_CURR\"])\n",
        "\n",
        "# Заполняем пропущенные значения медианными\n",
        "imputer = SimpleImputer(strategy='median')\n",
        "num_features_imputed = pd.DataFrame(imputer.fit_transform(num_features), columns=num_features.columns)\n",
        "\n",
        "# Добавляем новые признаки\n",
        "num_features_imputed['CREDIT_INCOME_RATIO'] = num_features_imputed['AMT_CREDIT'] / (num_features_imputed['AMT_INCOME_TOTAL'] + 1)\n",
        "num_features_imputed['ANNUITY_INCOME_RATIO'] = num_features_imputed['AMT_ANNUITY'] / (num_features_imputed['AMT_INCOME_TOTAL'] + 1)\n",
        "num_features_imputed['DAYS_EMPLOYED_RATIO'] = num_features_imputed['DAYS_EMPLOYED'] / (num_features_imputed['DAYS_BIRTH'] + 1)"
      ],
      "metadata": {
        "id": "Mvsi13d8uIKW"
      },
      "execution_count": 3,
      "outputs": []
    },
    {
      "cell_type": "code",
      "source": [
        "# Масштабируем данные\n",
        "scaler = StandardScaler()\n",
        "X = scaler.fit_transform(num_features_imputed)\n",
        "y = app_train[\"TARGET\"]\n",
        "\n",
        "# Разделение на обучающую и тестовую выборки\n",
        "X_train, X_test, y_train, y_test = train_test_split(X, y, test_size=0.2, stratify=y, random_state=42)"
      ],
      "metadata": {
        "id": "fl8ZXYdqufJa"
      },
      "execution_count": 4,
      "outputs": []
    },
    {
      "cell_type": "code",
      "source": [
        "# Создание модели нейронной сети\n",
        "model = Sequential([\n",
        "    Dense(128, activation='relu', input_shape=(X_train.shape[1],)),\n",
        "    Dropout(0.3),  # Dropout для борьбы с переобучением\n",
        "    Dense(64, activation='relu'),\n",
        "    Dropout(0.3),\n",
        "    Dense(1, activation='sigmoid')  # Выходной слой для бинарной классификации\n",
        "])\n",
        "\n",
        "# Компиляция модели\n",
        "model.compile(optimizer='adam', loss='binary_crossentropy', metrics=['AUC'])"
      ],
      "metadata": {
        "colab": {
          "base_uri": "https://localhost:8080/"
        },
        "id": "gqNxU7Y8ujKb",
        "outputId": "6aee01a2-753e-48c0-9be3-f275944305c7"
      },
      "execution_count": 5,
      "outputs": [
        {
          "output_type": "stream",
          "name": "stderr",
          "text": [
            "/usr/local/lib/python3.11/dist-packages/keras/src/layers/core/dense.py:87: UserWarning: Do not pass an `input_shape`/`input_dim` argument to a layer. When using Sequential models, prefer using an `Input(shape)` object as the first layer in the model instead.\n",
            "  super().__init__(activity_regularizer=activity_regularizer, **kwargs)\n"
          ]
        }
      ]
    },
    {
      "cell_type": "code",
      "source": [
        "# Обучение модели\n",
        "history = model.fit(X_train, y_train, validation_data=(X_test, y_test), epochs=20, batch_size=512, verbose=1)"
      ],
      "metadata": {
        "colab": {
          "base_uri": "https://localhost:8080/"
        },
        "id": "s3-Scz1jun-x",
        "outputId": "0a8388e8-e089-4ec2-c6ac-77fd167844db"
      },
      "execution_count": 6,
      "outputs": [
        {
          "output_type": "stream",
          "name": "stdout",
          "text": [
            "Epoch 1/20\n",
            "\u001b[1m481/481\u001b[0m \u001b[32m━━━━━━━━━━━━━━━━━━━━\u001b[0m\u001b[37m\u001b[0m \u001b[1m11s\u001b[0m 15ms/step - AUC: 0.6234 - loss: 0.3260 - val_AUC: 0.7228 - val_loss: 0.2568\n",
            "Epoch 2/20\n",
            "\u001b[1m481/481\u001b[0m \u001b[32m━━━━━━━━━━━━━━━━━━━━\u001b[0m\u001b[37m\u001b[0m \u001b[1m5s\u001b[0m 11ms/step - AUC: 0.7025 - loss: 0.2652 - val_AUC: 0.7281 - val_loss: 0.2547\n",
            "Epoch 3/20\n",
            "\u001b[1m481/481\u001b[0m \u001b[32m━━━━━━━━━━━━━━━━━━━━\u001b[0m\u001b[37m\u001b[0m \u001b[1m5s\u001b[0m 10ms/step - AUC: 0.7099 - loss: 0.2605 - val_AUC: 0.7330 - val_loss: 0.2534\n",
            "Epoch 4/20\n",
            "\u001b[1m481/481\u001b[0m \u001b[32m━━━━━━━━━━━━━━━━━━━━\u001b[0m\u001b[37m\u001b[0m \u001b[1m7s\u001b[0m 14ms/step - AUC: 0.7208 - loss: 0.2586 - val_AUC: 0.7348 - val_loss: 0.2531\n",
            "Epoch 5/20\n",
            "\u001b[1m481/481\u001b[0m \u001b[32m━━━━━━━━━━━━━━━━━━━━\u001b[0m\u001b[37m\u001b[0m \u001b[1m5s\u001b[0m 9ms/step - AUC: 0.7225 - loss: 0.2575 - val_AUC: 0.7366 - val_loss: 0.2524\n",
            "Epoch 6/20\n",
            "\u001b[1m481/481\u001b[0m \u001b[32m━━━━━━━━━━━━━━━━━━━━\u001b[0m\u001b[37m\u001b[0m \u001b[1m7s\u001b[0m 14ms/step - AUC: 0.7259 - loss: 0.2546 - val_AUC: 0.7366 - val_loss: 0.2522\n",
            "Epoch 7/20\n",
            "\u001b[1m481/481\u001b[0m \u001b[32m━━━━━━━━━━━━━━━━━━━━\u001b[0m\u001b[37m\u001b[0m \u001b[1m8s\u001b[0m 10ms/step - AUC: 0.7281 - loss: 0.2547 - val_AUC: 0.7372 - val_loss: 0.2522\n",
            "Epoch 8/20\n",
            "\u001b[1m481/481\u001b[0m \u001b[32m━━━━━━━━━━━━━━━━━━━━\u001b[0m\u001b[37m\u001b[0m \u001b[1m7s\u001b[0m 14ms/step - AUC: 0.7300 - loss: 0.2560 - val_AUC: 0.7382 - val_loss: 0.2519\n",
            "Epoch 9/20\n",
            "\u001b[1m481/481\u001b[0m \u001b[32m━━━━━━━━━━━━━━━━━━━━\u001b[0m\u001b[37m\u001b[0m \u001b[1m4s\u001b[0m 8ms/step - AUC: 0.7354 - loss: 0.2503 - val_AUC: 0.7373 - val_loss: 0.2520\n",
            "Epoch 10/20\n",
            "\u001b[1m481/481\u001b[0m \u001b[32m━━━━━━━━━━━━━━━━━━━━\u001b[0m\u001b[37m\u001b[0m \u001b[1m6s\u001b[0m 12ms/step - AUC: 0.7328 - loss: 0.2532 - val_AUC: 0.7398 - val_loss: 0.2521\n",
            "Epoch 11/20\n",
            "\u001b[1m481/481\u001b[0m \u001b[32m━━━━━━━━━━━━━━━━━━━━\u001b[0m\u001b[37m\u001b[0m \u001b[1m6s\u001b[0m 12ms/step - AUC: 0.7340 - loss: 0.2545 - val_AUC: 0.7397 - val_loss: 0.2517\n",
            "Epoch 12/20\n",
            "\u001b[1m481/481\u001b[0m \u001b[32m━━━━━━━━━━━━━━━━━━━━\u001b[0m\u001b[37m\u001b[0m \u001b[1m4s\u001b[0m 9ms/step - AUC: 0.7344 - loss: 0.2532 - val_AUC: 0.7395 - val_loss: 0.2517\n",
            "Epoch 13/20\n",
            "\u001b[1m481/481\u001b[0m \u001b[32m━━━━━━━━━━━━━━━━━━━━\u001b[0m\u001b[37m\u001b[0m \u001b[1m5s\u001b[0m 8ms/step - AUC: 0.7401 - loss: 0.2508 - val_AUC: 0.7389 - val_loss: 0.2521\n",
            "Epoch 14/20\n",
            "\u001b[1m481/481\u001b[0m \u001b[32m━━━━━━━━━━━━━━━━━━━━\u001b[0m\u001b[37m\u001b[0m \u001b[1m6s\u001b[0m 11ms/step - AUC: 0.7371 - loss: 0.2534 - val_AUC: 0.7406 - val_loss: 0.2512\n",
            "Epoch 15/20\n",
            "\u001b[1m481/481\u001b[0m \u001b[32m━━━━━━━━━━━━━━━━━━━━\u001b[0m\u001b[37m\u001b[0m \u001b[1m4s\u001b[0m 9ms/step - AUC: 0.7397 - loss: 0.2520 - val_AUC: 0.7401 - val_loss: 0.2513\n",
            "Epoch 16/20\n",
            "\u001b[1m481/481\u001b[0m \u001b[32m━━━━━━━━━━━━━━━━━━━━\u001b[0m\u001b[37m\u001b[0m \u001b[1m5s\u001b[0m 10ms/step - AUC: 0.7376 - loss: 0.2516 - val_AUC: 0.7408 - val_loss: 0.2512\n",
            "Epoch 17/20\n",
            "\u001b[1m481/481\u001b[0m \u001b[32m━━━━━━━━━━━━━━━━━━━━\u001b[0m\u001b[37m\u001b[0m \u001b[1m5s\u001b[0m 11ms/step - AUC: 0.7404 - loss: 0.2486 - val_AUC: 0.7382 - val_loss: 0.2517\n",
            "Epoch 18/20\n",
            "\u001b[1m481/481\u001b[0m \u001b[32m━━━━━━━━━━━━━━━━━━━━\u001b[0m\u001b[37m\u001b[0m \u001b[1m10s\u001b[0m 10ms/step - AUC: 0.7400 - loss: 0.2519 - val_AUC: 0.7400 - val_loss: 0.2513\n",
            "Epoch 19/20\n",
            "\u001b[1m481/481\u001b[0m \u001b[32m━━━━━━━━━━━━━━━━━━━━\u001b[0m\u001b[37m\u001b[0m \u001b[1m5s\u001b[0m 10ms/step - AUC: 0.7444 - loss: 0.2508 - val_AUC: 0.7397 - val_loss: 0.2516\n",
            "Epoch 20/20\n",
            "\u001b[1m481/481\u001b[0m \u001b[32m━━━━━━━━━━━━━━━━━━━━\u001b[0m\u001b[37m\u001b[0m \u001b[1m4s\u001b[0m 8ms/step - AUC: 0.7405 - loss: 0.2513 - val_AUC: 0.7389 - val_loss: 0.2516\n"
          ]
        }
      ]
    },
    {
      "cell_type": "code",
      "source": [
        "# Предсказания\n",
        "y_prob = model.predict(X_test).flatten()\n",
        "y_pred = (y_prob > 0.5).astype(int)"
      ],
      "metadata": {
        "colab": {
          "base_uri": "https://localhost:8080/"
        },
        "id": "pruUXvKiurAx",
        "outputId": "8acf6d10-1181-4698-830e-3187ef78fe68"
      },
      "execution_count": 7,
      "outputs": [
        {
          "output_type": "stream",
          "name": "stdout",
          "text": [
            "\u001b[1m1922/1922\u001b[0m \u001b[32m━━━━━━━━━━━━━━━━━━━━\u001b[0m\u001b[37m\u001b[0m \u001b[1m5s\u001b[0m 2ms/step\n"
          ]
        }
      ]
    },
    {
      "cell_type": "code",
      "source": [
        "# Оценка качества модели\n",
        "auc_score = roc_auc_score(y_test, y_prob)\n",
        "print(f\"AUC-ROC Score (Neural Network): {auc_score:.4f}\")\n",
        "print(classification_report(y_test, y_pred))"
      ],
      "metadata": {
        "colab": {
          "base_uri": "https://localhost:8080/"
        },
        "id": "fD0JtzcMuufK",
        "outputId": "d2e3ffec-2b43-4346-beb1-8da59ab9900b"
      },
      "execution_count": 8,
      "outputs": [
        {
          "output_type": "stream",
          "name": "stdout",
          "text": [
            "AUC-ROC Score (Neural Network): 0.7391\n",
            "              precision    recall  f1-score   support\n",
            "\n",
            "           0       0.92      1.00      0.96     56538\n",
            "           1       0.43      0.00      0.00      4965\n",
            "\n",
            "    accuracy                           0.92     61503\n",
            "   macro avg       0.68      0.50      0.48     61503\n",
            "weighted avg       0.88      0.92      0.88     61503\n",
            "\n"
          ]
        }
      ]
    }
  ]
}