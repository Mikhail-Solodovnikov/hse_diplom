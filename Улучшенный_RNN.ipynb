{
  "nbformat": 4,
  "nbformat_minor": 0,
  "metadata": {
    "colab": {
      "provenance": []
    },
    "kernelspec": {
      "name": "python3",
      "display_name": "Python 3"
    },
    "language_info": {
      "name": "python"
    }
  },
  "cells": [
    {
      "cell_type": "code",
      "execution_count": 2,
      "metadata": {
        "colab": {
          "base_uri": "https://localhost:8080/"
        },
        "id": "ClhJzasHvmRq",
        "outputId": "f35d69d7-d285-4b95-9e90-dba01796d422"
      },
      "outputs": [
        {
          "output_type": "stream",
          "name": "stdout",
          "text": [
            "Mounted at /content/drive\n"
          ]
        }
      ],
      "source": [
        "from google.colab import drive\n",
        "drive.mount('/content/drive')"
      ]
    },
    {
      "cell_type": "markdown",
      "source": [
        "Улучшенный RNN"
      ],
      "metadata": {
        "id": "Paw2UEjLvvRi"
      }
    },
    {
      "cell_type": "code",
      "source": [
        "import pandas as pd\n",
        "import numpy as np\n",
        "import os\n",
        "import tensorflow as tf\n",
        "from tensorflow.keras.models import Sequential\n",
        "from tensorflow.keras.layers import Dense, Dropout, BatchNormalization\n",
        "from tensorflow.keras import backend as K\n",
        "from sklearn.model_selection import train_test_split\n",
        "from sklearn.preprocessing import StandardScaler\n",
        "from sklearn.impute import SimpleImputer\n",
        "from sklearn.metrics import roc_auc_score, classification_report\n",
        "from imblearn.over_sampling import SMOTE"
      ],
      "metadata": {
        "id": "7SYJeCpXvul2"
      },
      "execution_count": 3,
      "outputs": []
    },
    {
      "cell_type": "code",
      "source": [
        "# Функция Focal Loss для учета классового дисбаланса\n",
        "def focal_loss(alpha=0.25, gamma=2.0):\n",
        "    def loss(y_true, y_pred):\n",
        "        y_pred = K.clip(y_pred, 1e-7, 1 - 1e-7)\n",
        "        loss = -y_true * alpha * K.pow(1 - y_pred, gamma) * K.log(y_pred) - \\\n",
        "               (1 - y_true) * (1 - alpha) * K.pow(y_pred, gamma) * K.log(1 - y_pred)\n",
        "        return K.mean(loss)\n",
        "    return loss"
      ],
      "metadata": {
        "id": "XJYNPf7JwQXq"
      },
      "execution_count": 4,
      "outputs": []
    },
    {
      "cell_type": "code",
      "source": [
        "# Укажем путь к данным\n",
        "DATA_PATH = r\"/content/drive/MyDrive/home-credit-default-risk\"\n",
        "\n",
        "# Загружаем данные\n",
        "app_train = pd.read_csv(os.path.join(DATA_PATH, \"application_train.csv\"))\n",
        "\n",
        "# Выбираем только числовые признаки\n",
        "num_features = app_train.select_dtypes(include=[np.number]).drop(columns=[\"TARGET\", \"SK_ID_CURR\"])\n",
        "\n",
        "# Заполняем пропущенные значения медианными\n",
        "imputer = SimpleImputer(strategy='median')\n",
        "num_features_imputed = pd.DataFrame(imputer.fit_transform(num_features), columns=num_features.columns)\n",
        "\n",
        "# Добавляем новые признаки\n",
        "num_features_imputed['CREDIT_INCOME_RATIO'] = num_features_imputed['AMT_CREDIT'] / (num_features_imputed['AMT_INCOME_TOTAL'] + 1)\n",
        "num_features_imputed['ANNUITY_INCOME_RATIO'] = num_features_imputed['AMT_ANNUITY'] / (num_features_imputed['AMT_INCOME_TOTAL'] + 1)\n",
        "num_features_imputed['DAYS_EMPLOYED_RATIO'] = num_features_imputed['DAYS_EMPLOYED'] / (num_features_imputed['DAYS_BIRTH'] + 1)"
      ],
      "metadata": {
        "id": "YvX_nZNixAx3"
      },
      "execution_count": 5,
      "outputs": []
    },
    {
      "cell_type": "code",
      "source": [
        "# Масштабируем данные\n",
        "scaler = StandardScaler()\n",
        "X = scaler.fit_transform(num_features_imputed)\n",
        "y = app_train[\"TARGET\"]"
      ],
      "metadata": {
        "id": "TN0eF52ExSzp"
      },
      "execution_count": 6,
      "outputs": []
    },
    {
      "cell_type": "code",
      "source": [
        "# Балансировка данных с SMOTE\n",
        "smote = SMOTE(sampling_strategy=0.3, random_state=42)  # Увеличиваем класс 1 до 30% от класса 0\n",
        "X_resampled, y_resampled = smote.fit_resample(X, y)"
      ],
      "metadata": {
        "id": "LLxXGaF-xWok"
      },
      "execution_count": 7,
      "outputs": []
    },
    {
      "cell_type": "code",
      "source": [
        "# Разделение на train/test\n",
        "X_train, X_test, y_train, y_test = train_test_split(X_resampled, y_resampled, test_size=0.2, stratify=y_resampled, random_state=42)"
      ],
      "metadata": {
        "id": "yiAVuPboxY2j"
      },
      "execution_count": 8,
      "outputs": []
    },
    {
      "cell_type": "code",
      "source": [
        "# Создание улучшенной нейронной сети\n",
        "model = Sequential([\n",
        "    Dense(256, activation='relu', input_shape=(X_train.shape[1],)),\n",
        "    BatchNormalization(),\n",
        "    Dropout(0.3),\n",
        "    Dense(128, activation='relu'),\n",
        "    BatchNormalization(),\n",
        "    Dropout(0.3),\n",
        "    Dense(64, activation='relu'),\n",
        "    Dense(1, activation='sigmoid')  # Выходной слой для бинарной классификации\n",
        "])"
      ],
      "metadata": {
        "colab": {
          "base_uri": "https://localhost:8080/"
        },
        "id": "9vkmiYoYxb1l",
        "outputId": "e4edf0d3-d94f-4695-b8ac-4d00e082cc26"
      },
      "execution_count": 9,
      "outputs": [
        {
          "output_type": "stream",
          "name": "stderr",
          "text": [
            "/usr/local/lib/python3.11/dist-packages/keras/src/layers/core/dense.py:87: UserWarning: Do not pass an `input_shape`/`input_dim` argument to a layer. When using Sequential models, prefer using an `Input(shape)` object as the first layer in the model instead.\n",
            "  super().__init__(activity_regularizer=activity_regularizer, **kwargs)\n"
          ]
        }
      ]
    },
    {
      "cell_type": "code",
      "source": [
        "# Компиляция модели с Focal Loss\n",
        "model.compile(optimizer='adam', loss=focal_loss(alpha=0.25, gamma=2.0), metrics=['AUC'])"
      ],
      "metadata": {
        "id": "NpCvHS9Dxen2"
      },
      "execution_count": 10,
      "outputs": []
    },
    {
      "cell_type": "code",
      "source": [
        "# Обучение модели\n",
        "class_weight = {0: 1, 1: 10}  # Увеличиваем вес класса 1\n",
        "history = model.fit(X_train, y_train, validation_data=(X_test, y_test), epochs=30, batch_size=512, class_weight=class_weight, verbose=1)"
      ],
      "metadata": {
        "colab": {
          "base_uri": "https://localhost:8080/"
        },
        "id": "6QGO1Vc7xhQk",
        "outputId": "0e89838a-1632-4fd8-9d92-f3ef16d44d89"
      },
      "execution_count": 11,
      "outputs": [
        {
          "output_type": "stream",
          "name": "stdout",
          "text": [
            "Epoch 1/30\n",
            "\u001b[1m575/575\u001b[0m \u001b[32m━━━━━━━━━━━━━━━━━━━━\u001b[0m\u001b[37m\u001b[0m \u001b[1m26s\u001b[0m 28ms/step - AUC: 0.6399 - loss: 0.2156 - val_AUC: 0.7588 - val_loss: 0.0463\n",
            "Epoch 2/30\n",
            "\u001b[1m575/575\u001b[0m \u001b[32m━━━━━━━━━━━━━━━━━━━━\u001b[0m\u001b[37m\u001b[0m \u001b[1m12s\u001b[0m 21ms/step - AUC: 0.7295 - loss: 0.1499 - val_AUC: 0.7697 - val_loss: 0.0454\n",
            "Epoch 3/30\n",
            "\u001b[1m575/575\u001b[0m \u001b[32m━━━━━━━━━━━━━━━━━━━━\u001b[0m\u001b[37m\u001b[0m \u001b[1m8s\u001b[0m 13ms/step - AUC: 0.7482 - loss: 0.1444 - val_AUC: 0.7814 - val_loss: 0.0445\n",
            "Epoch 4/30\n",
            "\u001b[1m575/575\u001b[0m \u001b[32m━━━━━━━━━━━━━━━━━━━━\u001b[0m\u001b[37m\u001b[0m \u001b[1m10s\u001b[0m 17ms/step - AUC: 0.7626 - loss: 0.1405 - val_AUC: 0.7919 - val_loss: 0.0439\n",
            "Epoch 5/30\n",
            "\u001b[1m575/575\u001b[0m \u001b[32m━━━━━━━━━━━━━━━━━━━━\u001b[0m\u001b[37m\u001b[0m \u001b[1m9s\u001b[0m 16ms/step - AUC: 0.7762 - loss: 0.1381 - val_AUC: 0.8009 - val_loss: 0.0432\n",
            "Epoch 6/30\n",
            "\u001b[1m575/575\u001b[0m \u001b[32m━━━━━━━━━━━━━━━━━━━━\u001b[0m\u001b[37m\u001b[0m \u001b[1m8s\u001b[0m 13ms/step - AUC: 0.7797 - loss: 0.1376 - val_AUC: 0.8031 - val_loss: 0.0434\n",
            "Epoch 7/30\n",
            "\u001b[1m575/575\u001b[0m \u001b[32m━━━━━━━━━━━━━━━━━━━━\u001b[0m\u001b[37m\u001b[0m \u001b[1m10s\u001b[0m 16ms/step - AUC: 0.7905 - loss: 0.1356 - val_AUC: 0.8094 - val_loss: 0.0427\n",
            "Epoch 8/30\n",
            "\u001b[1m575/575\u001b[0m \u001b[32m━━━━━━━━━━━━━━━━━━━━\u001b[0m\u001b[37m\u001b[0m \u001b[1m9s\u001b[0m 15ms/step - AUC: 0.7930 - loss: 0.1354 - val_AUC: 0.8139 - val_loss: 0.0422\n",
            "Epoch 9/30\n",
            "\u001b[1m575/575\u001b[0m \u001b[32m━━━━━━━━━━━━━━━━━━━━\u001b[0m\u001b[37m\u001b[0m \u001b[1m10s\u001b[0m 14ms/step - AUC: 0.7987 - loss: 0.1330 - val_AUC: 0.8137 - val_loss: 0.0424\n",
            "Epoch 10/30\n",
            "\u001b[1m575/575\u001b[0m \u001b[32m━━━━━━━━━━━━━━━━━━━━\u001b[0m\u001b[37m\u001b[0m \u001b[1m12s\u001b[0m 16ms/step - AUC: 0.8040 - loss: 0.1310 - val_AUC: 0.8204 - val_loss: 0.0417\n",
            "Epoch 11/30\n",
            "\u001b[1m575/575\u001b[0m \u001b[32m━━━━━━━━━━━━━━━━━━━━\u001b[0m\u001b[37m\u001b[0m \u001b[1m10s\u001b[0m 16ms/step - AUC: 0.8091 - loss: 0.1310 - val_AUC: 0.8236 - val_loss: 0.0413\n",
            "Epoch 12/30\n",
            "\u001b[1m575/575\u001b[0m \u001b[32m━━━━━━━━━━━━━━━━━━━━\u001b[0m\u001b[37m\u001b[0m \u001b[1m8s\u001b[0m 13ms/step - AUC: 0.8108 - loss: 0.1304 - val_AUC: 0.8278 - val_loss: 0.0412\n",
            "Epoch 13/30\n",
            "\u001b[1m575/575\u001b[0m \u001b[32m━━━━━━━━━━━━━━━━━━━━\u001b[0m\u001b[37m\u001b[0m \u001b[1m9s\u001b[0m 16ms/step - AUC: 0.8139 - loss: 0.1296 - val_AUC: 0.8314 - val_loss: 0.0407\n",
            "Epoch 14/30\n",
            "\u001b[1m575/575\u001b[0m \u001b[32m━━━━━━━━━━━━━━━━━━━━\u001b[0m\u001b[37m\u001b[0m \u001b[1m10s\u001b[0m 17ms/step - AUC: 0.8200 - loss: 0.1282 - val_AUC: 0.8357 - val_loss: 0.0403\n",
            "Epoch 15/30\n",
            "\u001b[1m575/575\u001b[0m \u001b[32m━━━━━━━━━━━━━━━━━━━━\u001b[0m\u001b[37m\u001b[0m \u001b[1m8s\u001b[0m 13ms/step - AUC: 0.8217 - loss: 0.1281 - val_AUC: 0.8374 - val_loss: 0.0403\n",
            "Epoch 16/30\n",
            "\u001b[1m575/575\u001b[0m \u001b[32m━━━━━━━━━━━━━━━━━━━━\u001b[0m\u001b[37m\u001b[0m \u001b[1m9s\u001b[0m 16ms/step - AUC: 0.8257 - loss: 0.1268 - val_AUC: 0.8401 - val_loss: 0.0398\n",
            "Epoch 17/30\n",
            "\u001b[1m575/575\u001b[0m \u001b[32m━━━━━━━━━━━━━━━━━━━━\u001b[0m\u001b[37m\u001b[0m \u001b[1m10s\u001b[0m 16ms/step - AUC: 0.8272 - loss: 0.1262 - val_AUC: 0.8425 - val_loss: 0.0397\n",
            "Epoch 18/30\n",
            "\u001b[1m575/575\u001b[0m \u001b[32m━━━━━━━━━━━━━━━━━━━━\u001b[0m\u001b[37m\u001b[0m \u001b[1m9s\u001b[0m 13ms/step - AUC: 0.8291 - loss: 0.1260 - val_AUC: 0.8437 - val_loss: 0.0394\n",
            "Epoch 19/30\n",
            "\u001b[1m575/575\u001b[0m \u001b[32m━━━━━━━━━━━━━━━━━━━━\u001b[0m\u001b[37m\u001b[0m \u001b[1m9s\u001b[0m 16ms/step - AUC: 0.8326 - loss: 0.1240 - val_AUC: 0.8490 - val_loss: 0.0390\n",
            "Epoch 20/30\n",
            "\u001b[1m575/575\u001b[0m \u001b[32m━━━━━━━━━━━━━━━━━━━━\u001b[0m\u001b[37m\u001b[0m \u001b[1m9s\u001b[0m 16ms/step - AUC: 0.8366 - loss: 0.1232 - val_AUC: 0.8516 - val_loss: 0.0387\n",
            "Epoch 21/30\n",
            "\u001b[1m575/575\u001b[0m \u001b[32m━━━━━━━━━━━━━━━━━━━━\u001b[0m\u001b[37m\u001b[0m \u001b[1m9s\u001b[0m 15ms/step - AUC: 0.8376 - loss: 0.1232 - val_AUC: 0.8528 - val_loss: 0.0387\n",
            "Epoch 22/30\n",
            "\u001b[1m575/575\u001b[0m \u001b[32m━━━━━━━━━━━━━━━━━━━━\u001b[0m\u001b[37m\u001b[0m \u001b[1m11s\u001b[0m 16ms/step - AUC: 0.8386 - loss: 0.1222 - val_AUC: 0.8545 - val_loss: 0.0382\n",
            "Epoch 23/30\n",
            "\u001b[1m575/575\u001b[0m \u001b[32m━━━━━━━━━━━━━━━━━━━━\u001b[0m\u001b[37m\u001b[0m \u001b[1m11s\u001b[0m 17ms/step - AUC: 0.8420 - loss: 0.1211 - val_AUC: 0.8571 - val_loss: 0.0379\n",
            "Epoch 24/30\n",
            "\u001b[1m575/575\u001b[0m \u001b[32m━━━━━━━━━━━━━━━━━━━━\u001b[0m\u001b[37m\u001b[0m \u001b[1m10s\u001b[0m 16ms/step - AUC: 0.8450 - loss: 0.1197 - val_AUC: 0.8591 - val_loss: 0.0378\n",
            "Epoch 25/30\n",
            "\u001b[1m575/575\u001b[0m \u001b[32m━━━━━━━━━━━━━━━━━━━━\u001b[0m\u001b[37m\u001b[0m \u001b[1m10s\u001b[0m 15ms/step - AUC: 0.8463 - loss: 0.1198 - val_AUC: 0.8614 - val_loss: 0.0371\n",
            "Epoch 26/30\n",
            "\u001b[1m575/575\u001b[0m \u001b[32m━━━━━━━━━━━━━━━━━━━━\u001b[0m\u001b[37m\u001b[0m \u001b[1m11s\u001b[0m 17ms/step - AUC: 0.8482 - loss: 0.1175 - val_AUC: 0.8620 - val_loss: 0.0370\n",
            "Epoch 27/30\n",
            "\u001b[1m575/575\u001b[0m \u001b[32m━━━━━━━━━━━━━━━━━━━━\u001b[0m\u001b[37m\u001b[0m \u001b[1m9s\u001b[0m 15ms/step - AUC: 0.8504 - loss: 0.1176 - val_AUC: 0.8628 - val_loss: 0.0367\n",
            "Epoch 28/30\n",
            "\u001b[1m575/575\u001b[0m \u001b[32m━━━━━━━━━━━━━━━━━━━━\u001b[0m\u001b[37m\u001b[0m \u001b[1m9s\u001b[0m 14ms/step - AUC: 0.8498 - loss: 0.1178 - val_AUC: 0.8655 - val_loss: 0.0364\n",
            "Epoch 29/30\n",
            "\u001b[1m575/575\u001b[0m \u001b[32m━━━━━━━━━━━━━━━━━━━━\u001b[0m\u001b[37m\u001b[0m \u001b[1m11s\u001b[0m 16ms/step - AUC: 0.8549 - loss: 0.1166 - val_AUC: 0.8665 - val_loss: 0.0365\n",
            "Epoch 30/30\n",
            "\u001b[1m575/575\u001b[0m \u001b[32m━━━━━━━━━━━━━━━━━━━━\u001b[0m\u001b[37m\u001b[0m \u001b[1m9s\u001b[0m 16ms/step - AUC: 0.8544 - loss: 0.1159 - val_AUC: 0.8682 - val_loss: 0.0361\n"
          ]
        }
      ]
    },
    {
      "cell_type": "code",
      "source": [
        "# Предсказания\n",
        "y_prob = model.predict(X_test).flatten()\n",
        "y_pred = (y_prob > 0.5).astype(int)"
      ],
      "metadata": {
        "colab": {
          "base_uri": "https://localhost:8080/"
        },
        "id": "p-lTS5QAxkZn",
        "outputId": "2af80d25-36cc-4238-b04c-8fb863976986"
      },
      "execution_count": 12,
      "outputs": [
        {
          "output_type": "stream",
          "name": "stdout",
          "text": [
            "\u001b[1m2297/2297\u001b[0m \u001b[32m━━━━━━━━━━━━━━━━━━━━\u001b[0m\u001b[37m\u001b[0m \u001b[1m3s\u001b[0m 1ms/step\n"
          ]
        }
      ]
    },
    {
      "cell_type": "code",
      "source": [
        "# Оценка качества модели\n",
        "auc_score = roc_auc_score(y_test, y_prob)\n",
        "print(f\"AUC-ROC Score (Improved Neural Network): {auc_score:.4f}\")\n",
        "print(classification_report(y_test, y_pred))"
      ],
      "metadata": {
        "colab": {
          "base_uri": "https://localhost:8080/"
        },
        "id": "MJ9kU8y-xoE8",
        "outputId": "52f13ad8-f07e-4a74-ba2b-9df167a0bd1c"
      },
      "execution_count": 13,
      "outputs": [
        {
          "output_type": "stream",
          "name": "stdout",
          "text": [
            "AUC-ROC Score (Improved Neural Network): 0.8683\n",
            "              precision    recall  f1-score   support\n",
            "\n",
            "           0       0.81      1.00      0.89     56538\n",
            "           1       0.96      0.23      0.37     16961\n",
            "\n",
            "    accuracy                           0.82     73499\n",
            "   macro avg       0.89      0.61      0.63     73499\n",
            "weighted avg       0.85      0.82      0.77     73499\n",
            "\n"
          ]
        }
      ]
    }
  ]
}